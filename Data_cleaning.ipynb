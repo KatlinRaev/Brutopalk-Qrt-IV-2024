{
 "cells": [
  {
   "cell_type": "markdown",
   "id": "166037d6",
   "metadata": {},
   "source": [
    "### Importing Libaries"
   ]
  },
  {
   "cell_type": "code",
   "execution_count": 106,
   "id": "5bc13f25",
   "metadata": {},
   "outputs": [],
   "source": [
    "import pandas as pd\n",
    "import numpy as np"
   ]
  },
  {
   "cell_type": "markdown",
   "id": "3ffe5ce6",
   "metadata": {},
   "source": [
    "### Loeading data"
   ]
  },
  {
   "cell_type": "code",
   "execution_count": 107,
   "id": "c9371e77",
   "metadata": {},
   "outputs": [],
   "source": [
    "df = pd.read_csv(\"tasutud_maksud_2024_iv_kvartal.csv\", delimiter=\";\")"
   ]
  },
  {
   "cell_type": "markdown",
   "id": "e0af85fc",
   "metadata": {},
   "source": [
    "### Data overview"
   ]
  },
  {
   "cell_type": "code",
   "execution_count": 108,
   "id": "5fd921fc",
   "metadata": {},
   "outputs": [
    {
     "name": "stdout",
     "output_type": "stream",
     "text": [
      "Missing values in dataset: 292914\n",
      "Duplicate rows in dataset: 0\n"
     ]
    },
    {
     "data": {
      "text/html": [
       "<div>\n",
       "<style scoped>\n",
       "    .dataframe tbody tr th:only-of-type {\n",
       "        vertical-align: middle;\n",
       "    }\n",
       "\n",
       "    .dataframe tbody tr th {\n",
       "        vertical-align: top;\n",
       "    }\n",
       "\n",
       "    .dataframe thead th {\n",
       "        text-align: right;\n",
       "    }\n",
       "</style>\n",
       "<table border=\"1\" class=\"dataframe\">\n",
       "  <thead>\n",
       "    <tr style=\"text-align: right;\">\n",
       "      <th></th>\n",
       "      <th>Registrikood</th>\n",
       "      <th>Nimi</th>\n",
       "      <th>Liik</th>\n",
       "      <th>Registreeritud käibemaksukohustuslaste registrisse</th>\n",
       "      <th>EMTAK tegevusvaldkond, mis on EMTAKi struktuuris tähistatud tähtkoodiga</th>\n",
       "      <th>Maakond</th>\n",
       "      <th>Riiklikud Maksud</th>\n",
       "      <th>Tööjõumaksud Ja Maksed</th>\n",
       "      <th>Kaive</th>\n",
       "      <th>Tootajaid</th>\n",
       "    </tr>\n",
       "  </thead>\n",
       "  <tbody>\n",
       "    <tr>\n",
       "      <th>0</th>\n",
       "      <td>01834575</td>\n",
       "      <td>KUNDERI 24, GARAAŽIKOOPERATIIV</td>\n",
       "      <td>Äriühing</td>\n",
       "      <td>ei</td>\n",
       "      <td>NaN</td>\n",
       "      <td>Harju ( Tallinn )</td>\n",
       "      <td>267,57</td>\n",
       "      <td>0</td>\n",
       "      <td>NaN</td>\n",
       "      <td>NaN</td>\n",
       "    </tr>\n",
       "    <tr>\n",
       "      <th>1</th>\n",
       "      <td>10000018</td>\n",
       "      <td>AMSERV AUTO OSAÜHING</td>\n",
       "      <td>Äriühing</td>\n",
       "      <td>jah</td>\n",
       "      <td>HULGI- JA JAEKAUBANDUS; MOOTORSÕIDUKITE JA MOO...</td>\n",
       "      <td>Harju ( Tallinn )</td>\n",
       "      <td>1599978,73</td>\n",
       "      <td>1162262,12</td>\n",
       "      <td>40775153,23</td>\n",
       "      <td>239.0</td>\n",
       "    </tr>\n",
       "    <tr>\n",
       "      <th>2</th>\n",
       "      <td>10000024</td>\n",
       "      <td>EESTI RAAMAT, OÜ</td>\n",
       "      <td>Äriühing</td>\n",
       "      <td>jah</td>\n",
       "      <td>INFO JA SIDE</td>\n",
       "      <td>Harju ( Tallinn )</td>\n",
       "      <td>39120,85</td>\n",
       "      <td>32083,72</td>\n",
       "      <td>260141,92</td>\n",
       "      <td>11.0</td>\n",
       "    </tr>\n",
       "    <tr>\n",
       "      <th>3</th>\n",
       "      <td>10000062</td>\n",
       "      <td>ALDO KOPPEL</td>\n",
       "      <td>FIE</td>\n",
       "      <td>jah</td>\n",
       "      <td>PÕLLUMAJANDUS, METSAMAJANDUS JA KALAPÜÜK</td>\n",
       "      <td>Ida-Viru ( Lüganuse vald )</td>\n",
       "      <td>319,21</td>\n",
       "      <td>0</td>\n",
       "      <td>3289,32</td>\n",
       "      <td>NaN</td>\n",
       "    </tr>\n",
       "    <tr>\n",
       "      <th>4</th>\n",
       "      <td>10000127</td>\n",
       "      <td>ARAVETE APTEEK, TÜ</td>\n",
       "      <td>Äriühing</td>\n",
       "      <td>jah</td>\n",
       "      <td>HULGI- JA JAEKAUBANDUS; MOOTORSÕIDUKITE JA MOO...</td>\n",
       "      <td>Järva ( Järva vald )</td>\n",
       "      <td>12080,03</td>\n",
       "      <td>8021,03</td>\n",
       "      <td>198645,63</td>\n",
       "      <td>2.0</td>\n",
       "    </tr>\n",
       "  </tbody>\n",
       "</table>\n",
       "</div>"
      ],
      "text/plain": [
       "  Registrikood                            Nimi      Liik  \\\n",
       "0     01834575  KUNDERI 24, GARAAŽIKOOPERATIIV  Äriühing   \n",
       "1     10000018            AMSERV AUTO OSAÜHING  Äriühing   \n",
       "2     10000024                EESTI RAAMAT, OÜ  Äriühing   \n",
       "3     10000062                     ALDO KOPPEL       FIE   \n",
       "4     10000127              ARAVETE APTEEK, TÜ  Äriühing   \n",
       "\n",
       "  Registreeritud käibemaksukohustuslaste registrisse  \\\n",
       "0                                                 ei   \n",
       "1                                                jah   \n",
       "2                                                jah   \n",
       "3                                                jah   \n",
       "4                                                jah   \n",
       "\n",
       "  EMTAK tegevusvaldkond, mis on EMTAKi struktuuris tähistatud tähtkoodiga  \\\n",
       "0                                                NaN                        \n",
       "1  HULGI- JA JAEKAUBANDUS; MOOTORSÕIDUKITE JA MOO...                        \n",
       "2                                       INFO JA SIDE                        \n",
       "3           PÕLLUMAJANDUS, METSAMAJANDUS JA KALAPÜÜK                        \n",
       "4  HULGI- JA JAEKAUBANDUS; MOOTORSÕIDUKITE JA MOO...                        \n",
       "\n",
       "                      Maakond Riiklikud Maksud Tööjõumaksud Ja Maksed  \\\n",
       "0           Harju ( Tallinn )           267,57                      0   \n",
       "1           Harju ( Tallinn )       1599978,73             1162262,12   \n",
       "2           Harju ( Tallinn )         39120,85               32083,72   \n",
       "3  Ida-Viru ( Lüganuse vald )           319,21                      0   \n",
       "4        Järva ( Järva vald )         12080,03                8021,03   \n",
       "\n",
       "         Kaive  Tootajaid  \n",
       "0          NaN        NaN  \n",
       "1  40775153,23      239.0  \n",
       "2    260141,92       11.0  \n",
       "3      3289,32        NaN  \n",
       "4    198645,63        2.0  "
      ]
     },
     "execution_count": 108,
     "metadata": {},
     "output_type": "execute_result"
    }
   ],
   "source": [
    "def clean_data(df):\n",
    "\n",
    "    missing_count = df.isnull().sum().sum()\n",
    "    duplicate_count = df.duplicated().sum()\n",
    "\n",
    "    print(f\"Missing values in dataset: {missing_count}\")\n",
    "    print(f\"Duplicate rows in dataset: {duplicate_count}\")\n",
    "\n",
    "    return df\n",
    "\n",
    "\n",
    "df = clean_data(df)\n",
    "df.head()"
   ]
  },
  {
   "cell_type": "code",
   "execution_count": 109,
   "id": "79d936e5",
   "metadata": {},
   "outputs": [
    {
     "name": "stdout",
     "output_type": "stream",
     "text": [
      "Missing Data Count\n",
      "Tootajaid                                                                  101274\n",
      "Kaive                                                                       67514\n",
      "Riiklikud Maksud                                                            36370\n",
      "Tööjõumaksud Ja Maksed                                                      36370\n",
      "Maakond                                                                     30476\n",
      "EMTAK tegevusvaldkond, mis on EMTAKi struktuuris tähistatud tähtkoodiga     20910\n",
      "dtype: int64\n",
      "------------------------------\n",
      "Missing Data Percentage\n",
      "Tootajaid                                                                  53.42\n",
      "Kaive                                                                      35.61\n",
      "Riiklikud Maksud                                                           19.18\n",
      "Tööjõumaksud Ja Maksed                                                     19.18\n",
      "Maakond                                                                    16.07\n",
      "EMTAK tegevusvaldkond, mis on EMTAKi struktuuris tähistatud tähtkoodiga    11.03\n",
      "dtype: float64\n"
     ]
    }
   ],
   "source": [
    "def show_missing():\n",
    "    missing = df.columns[df.isnull().any()].tolist()\n",
    "    return missing\n",
    "\n",
    "\n",
    "print(\"Missing Data Count\")\n",
    "print(df[show_missing()].isnull().sum().sort_values(ascending=False))\n",
    "print(\"--\" * 15)\n",
    "print(\"Missing Data Percentage\")\n",
    "print(\n",
    "    round(\n",
    "        df[show_missing()].isnull().sum().sort_values(ascending=False) / len(df) * 100,\n",
    "        2,\n",
    "    )\n",
    ")"
   ]
  },
  {
   "cell_type": "markdown",
   "id": "eb58250d",
   "metadata": {},
   "source": [
    "### Data Cleaning"
   ]
  },
  {
   "cell_type": "markdown",
   "id": "3ced8725",
   "metadata": {},
   "source": [
    "Renaming columns \"Kaive\" and \"Tootajad\" to correct names"
   ]
  },
  {
   "cell_type": "code",
   "execution_count": 110,
   "id": "9d4bc8fa",
   "metadata": {},
   "outputs": [],
   "source": [
    "df.rename(columns={\"Tootajaid\": \"Töötajad\"}, inplace=True)\n",
    "df.rename(columns={\"Kaive\": \"Käive\"}, inplace=True)"
   ]
  },
  {
   "cell_type": "markdown",
   "id": "db08de04",
   "metadata": {},
   "source": [
    "Column \"registrikood\" - adjusting column for visualisations, Registrikood isn't needed for visualization and is dropped from dataframe."
   ]
  },
  {
   "cell_type": "code",
   "execution_count": 111,
   "id": "8ba4f546",
   "metadata": {},
   "outputs": [],
   "source": [
    "df.drop(columns=[\"Registrikood\"], inplace=True)"
   ]
  },
  {
   "cell_type": "markdown",
   "id": "c6ac50a0",
   "metadata": {},
   "source": [
    "Adjusting column \"EMTAK tegevusvaldkond, mis on EMTAKi struktuuris tähistatud tähtkoodiga\""
   ]
  },
  {
   "cell_type": "code",
   "execution_count": null,
   "id": "0573702b",
   "metadata": {},
   "outputs": [],
   "source": [
    "df[\"EMTAK tegevusvaldkond, mis on EMTAKi struktuuris tähistatud tähtkoodiga\"] = df[\n",
    "    \"EMTAK tegevusvaldkond, mis on EMTAKi struktuuris tähistatud tähtkoodiga\"\n",
    "].str.capitalize()\n",
    "\n",
    "df[\"EMTAK tegevusvaldkond, mis on EMTAKi struktuuris tähistatud tähtkoodiga\"] = df[\n",
    "    \"EMTAK tegevusvaldkond, mis on EMTAKi struktuuris tähistatud tähtkoodiga\"\n",
    "].fillna(\"määramata\")"
   ]
  },
  {
   "cell_type": "markdown",
   "id": "8564f148",
   "metadata": {},
   "source": [
    "Column \"maakond\" - adjusting column for visualisations\n",
    "- Split column to \"maakond\" and \"keskus\""
   ]
  },
  {
   "cell_type": "code",
   "execution_count": 113,
   "id": "169de9de",
   "metadata": {},
   "outputs": [
    {
     "name": "stdout",
     "output_type": "stream",
     "text": [
      "                             Nimi      Liik  \\\n",
      "0  KUNDERI 24, GARAAŽIKOOPERATIIV  Äriühing   \n",
      "1            AMSERV AUTO OSAÜHING  Äriühing   \n",
      "2                EESTI RAAMAT, OÜ  Äriühing   \n",
      "3                     ALDO KOPPEL       FIE   \n",
      "4              ARAVETE APTEEK, TÜ  Äriühing   \n",
      "\n",
      "  Registreeritud käibemaksukohustuslaste registrisse  \\\n",
      "0                                                 ei   \n",
      "1                                                jah   \n",
      "2                                                jah   \n",
      "3                                                jah   \n",
      "4                                                jah   \n",
      "\n",
      "  EMTAK tegevusvaldkond, mis on EMTAKi struktuuris tähistatud tähtkoodiga  \\\n",
      "0                                          määramata                        \n",
      "1  Hulgi- ja jaekaubandus; mootorsõidukite ja moo...                        \n",
      "2                                       Info ja side                        \n",
      "3           Põllumajandus, metsamajandus ja kalapüük                        \n",
      "4  Hulgi- ja jaekaubandus; mootorsõidukite ja moo...                        \n",
      "\n",
      "    Maakond Riiklikud Maksud Tööjõumaksud Ja Maksed        Käive  Töötajad  \\\n",
      "0     Harju           267,57                      0          NaN       NaN   \n",
      "1     Harju       1599978,73             1162262,12  40775153,23     239.0   \n",
      "2     Harju         39120,85               32083,72    260141,92      11.0   \n",
      "3  Ida-Viru           319,21                      0      3289,32       NaN   \n",
      "4     Järva         12080,03                8021,03    198645,63       2.0   \n",
      "\n",
      "            Maakond keskusega         Keskus  \n",
      "0           Harju ( Tallinn )        Tallinn  \n",
      "1           Harju ( Tallinn )        Tallinn  \n",
      "2           Harju ( Tallinn )        Tallinn  \n",
      "3  Ida-Viru ( Lüganuse vald )  Lüganuse vald  \n",
      "4        Järva ( Järva vald )     Järva vald  \n"
     ]
    }
   ],
   "source": [
    "df[\"Maakond keskusega\"] = df[\"Maakond\"]\n",
    "df[[\"Maakond\", \"Keskus\"]] = df[\"Maakond\"].str.extract(r\"(.+?)\\s*\\(\\s*(.+?)\\s*\\)\")\n",
    "\n",
    "print(df.head())"
   ]
  },
  {
   "cell_type": "code",
   "execution_count": 114,
   "id": "1000e932",
   "metadata": {},
   "outputs": [
    {
     "name": "stdout",
     "output_type": "stream",
     "text": [
      "                             Nimi      Liik  \\\n",
      "0  KUNDERI 24, GARAAŽIKOOPERATIIV  Äriühing   \n",
      "1            AMSERV AUTO OSAÜHING  Äriühing   \n",
      "2                EESTI RAAMAT, OÜ  Äriühing   \n",
      "3                     ALDO KOPPEL       FIE   \n",
      "4              ARAVETE APTEEK, TÜ  Äriühing   \n",
      "\n",
      "  Registreeritud käibemaksukohustuslaste registrisse  \\\n",
      "0                                                 ei   \n",
      "1                                                jah   \n",
      "2                                                jah   \n",
      "3                                                jah   \n",
      "4                                                jah   \n",
      "\n",
      "  EMTAK tegevusvaldkond, mis on EMTAKi struktuuris tähistatud tähtkoodiga  \\\n",
      "0                                          määramata                        \n",
      "1  Hulgi- ja jaekaubandus; mootorsõidukite ja moo...                        \n",
      "2                                       Info ja side                        \n",
      "3           Põllumajandus, metsamajandus ja kalapüük                        \n",
      "4  Hulgi- ja jaekaubandus; mootorsõidukite ja moo...                        \n",
      "\n",
      "    Maakond Riiklikud Maksud Tööjõumaksud Ja Maksed        Käive  Töötajad  \\\n",
      "0     Harju           267,57                      0          NaN       NaN   \n",
      "1     Harju       1599978,73             1162262,12  40775153,23     239.0   \n",
      "2     Harju         39120,85               32083,72    260141,92      11.0   \n",
      "3  Ida-Viru           319,21                      0      3289,32       NaN   \n",
      "4     Järva         12080,03                8021,03    198645,63       2.0   \n",
      "\n",
      "            Maakond keskusega         Keskus  \n",
      "0           Harju ( Tallinn )        Tallinn  \n",
      "1           Harju ( Tallinn )        Tallinn  \n",
      "2           Harju ( Tallinn )        Tallinn  \n",
      "3  Ida-Viru ( Lüganuse vald )  Lüganuse vald  \n",
      "4        Järva ( Järva vald )     Järva vald  \n"
     ]
    }
   ],
   "source": [
    "df[\"Maakond\"] = df[\"Maakond\"].fillna(\"määramata\")\n",
    "\n",
    "print(df.head())"
   ]
  },
  {
   "cell_type": "markdown",
   "id": "43fc7dc5",
   "metadata": {},
   "source": [
    "Normalize column names to avoid hidden characters and replace commas and convert to float"
   ]
  },
  {
   "cell_type": "code",
   "execution_count": 115,
   "id": "7ac0e5cb",
   "metadata": {},
   "outputs": [
    {
     "name": "stdout",
     "output_type": "stream",
     "text": [
      "['Nimi', 'Liik', 'Registreeritud käibemaksukohustuslaste registrisse', 'EMTAK tegevusvaldkond, mis on EMTAKi struktuuris tähistatud tähtkoodiga', 'Maakond', 'Riiklikud Maksud', 'Tööjõumaksud Ja Maksed', 'Käive', 'Töötajad', 'Maakond keskusega', 'Keskus']\n",
      "                             Nimi      Liik  \\\n",
      "0  KUNDERI 24, GARAAŽIKOOPERATIIV  Äriühing   \n",
      "1            AMSERV AUTO OSAÜHING  Äriühing   \n",
      "2                EESTI RAAMAT, OÜ  Äriühing   \n",
      "3                     ALDO KOPPEL       FIE   \n",
      "4              ARAVETE APTEEK, TÜ  Äriühing   \n",
      "\n",
      "  Registreeritud käibemaksukohustuslaste registrisse  \\\n",
      "0                                                 ei   \n",
      "1                                                jah   \n",
      "2                                                jah   \n",
      "3                                                jah   \n",
      "4                                                jah   \n",
      "\n",
      "  EMTAK tegevusvaldkond, mis on EMTAKi struktuuris tähistatud tähtkoodiga  \\\n",
      "0                                          määramata                        \n",
      "1  Hulgi- ja jaekaubandus; mootorsõidukite ja moo...                        \n",
      "2                                       Info ja side                        \n",
      "3           Põllumajandus, metsamajandus ja kalapüük                        \n",
      "4  Hulgi- ja jaekaubandus; mootorsõidukite ja moo...                        \n",
      "\n",
      "    Maakond  Riiklikud Maksud  Tööjõumaksud Ja Maksed        Käive  Töötajad  \\\n",
      "0     Harju            267.57                    0.00          NaN       NaN   \n",
      "1     Harju        1599978.73              1162262.12  40775153.23     239.0   \n",
      "2     Harju          39120.85                32083.72    260141.92      11.0   \n",
      "3  Ida-Viru            319.21                    0.00      3289.32       NaN   \n",
      "4     Järva          12080.03                 8021.03    198645.63       2.0   \n",
      "\n",
      "            Maakond keskusega         Keskus  \n",
      "0           Harju ( Tallinn )        Tallinn  \n",
      "1           Harju ( Tallinn )        Tallinn  \n",
      "2           Harju ( Tallinn )        Tallinn  \n",
      "3  Ida-Viru ( Lüganuse vald )  Lüganuse vald  \n",
      "4        Järva ( Järva vald )     Järva vald  \n"
     ]
    }
   ],
   "source": [
    "print(df.columns.tolist())\n",
    "df.columns = df.columns.str.strip().str.replace(\"\\xa0\", \" \").str.replace(\" \", \" \")\n",
    "\n",
    "for col in [\"Tööjõumaksud Ja Maksed\", \"Käive\", \"Riiklikud Maksud\"]:\n",
    "    df[col] = df[col].astype(str).str.replace(\",\", \".\")\n",
    "    df[col] = pd.to_numeric(df[col], errors=\"coerce\")\n",
    "\n",
    "print(df.head())"
   ]
  },
  {
   "cell_type": "code",
   "execution_count": 116,
   "id": "59223f17",
   "metadata": {},
   "outputs": [
    {
     "name": "stdout",
     "output_type": "stream",
     "text": [
      "                           Nimi      Liik  \\\n",
      "1          AMSERV AUTO OSAÜHING  Äriühing   \n",
      "2              EESTI RAAMAT, OÜ  Äriühing   \n",
      "4            ARAVETE APTEEK, TÜ  Äriühing   \n",
      "5         KIVIÕLI KAUBAHOOV, AS  Äriühing   \n",
      "6  ITW CONSTRUCTION PRODUCTS OÜ  Äriühing   \n",
      "\n",
      "  Registreeritud käibemaksukohustuslaste registrisse  \\\n",
      "1                                                jah   \n",
      "2                                                jah   \n",
      "4                                                jah   \n",
      "5                                                jah   \n",
      "6                                                jah   \n",
      "\n",
      "  EMTAK tegevusvaldkond, mis on EMTAKi struktuuris tähistatud tähtkoodiga  \\\n",
      "1  Hulgi- ja jaekaubandus; mootorsõidukite ja moo...                        \n",
      "2                                       Info ja side                        \n",
      "4  Hulgi- ja jaekaubandus; mootorsõidukite ja moo...                        \n",
      "5  Hulgi- ja jaekaubandus; mootorsõidukite ja moo...                        \n",
      "6  Hulgi- ja jaekaubandus; mootorsõidukite ja moo...                        \n",
      "\n",
      "    Maakond  Riiklikud Maksud  Tööjõumaksud Ja Maksed        Käive  Töötajad  \\\n",
      "1     Harju        1599978.73              1162262.12  40775153.23     239.0   \n",
      "2     Harju          39120.85                32083.72    260141.92      11.0   \n",
      "4     Järva          12080.03                 8021.03    198645.63       2.0   \n",
      "5  Ida-Viru         148420.48                84688.77   1288012.97      35.0   \n",
      "6     Harju         112443.66                17593.60    785439.22       3.0   \n",
      "\n",
      "            Maakond keskusega         Keskus  Brutopalk kvartalis  \\\n",
      "1           Harju ( Tallinn )        Tallinn        868656.292975   \n",
      "2           Harju ( Tallinn )        Tallinn         23978.863976   \n",
      "4        Järva ( Järva vald )     Järva vald          5994.790732   \n",
      "5  Ida-Viru ( Lüganuse vald )  Lüganuse vald         63295.044843   \n",
      "6           Harju ( Tallinn )        Tallinn         13149.177877   \n",
      "\n",
      "   Keskmine brutokuupalk  \n",
      "1            1211.515053  \n",
      "2             726.632242  \n",
      "4             999.131789  \n",
      "5             602.809951  \n",
      "6            1461.019764  \n"
     ]
    }
   ],
   "source": [
    "df[\"Brutopalk kvartalis\"] = np.where(\n",
    "    (df[\"Tööjõumaksud Ja Maksed\"].notna()) & (df[\"Tööjõumaksud Ja Maksed\"] > 0),\n",
    "    df[\"Tööjõumaksud Ja Maksed\"] / 1.338,\n",
    "    np.nan,  # If Tööjõumaksud is blank or 0, set result as NaN\n",
    ")\n",
    "\n",
    "# Keskmine brutokuupalk: Handling cases where Töötajad is NaN or 0\n",
    "df[\"Keskmine brutokuupalk\"] = np.where(\n",
    "    (df[\"Brutopalk kvartalis\"].notna())\n",
    "    & (df[\"Töötajad\"].notna())\n",
    "    & (df[\"Töötajad\"] > 0),\n",
    "    df[\"Brutopalk kvartalis\"] / (3 * df[\"Töötajad\"]),\n",
    "    np.nan,  # If Brutopalk kvartalis or Töötajad is blank or 0, set result as NaN\n",
    ")\n",
    "df = df[df[\"Keskmine brutokuupalk\"] > 0].dropna(subset=[\"Keskmine brutokuupalk\"])\n",
    "print(df.head())"
   ]
  },
  {
   "cell_type": "markdown",
   "id": "de5c849c",
   "metadata": {},
   "source": [
    "### Saving cleaned data"
   ]
  },
  {
   "cell_type": "code",
   "execution_count": 117,
   "id": "8f752895",
   "metadata": {},
   "outputs": [],
   "source": [
    "df.to_csv(\n",
    "    \"tasutud_maksud_2024_iv_kvartal_cleaned.csv\", sep=\";\", decimal=\".\", index=False\n",
    ")"
   ]
  }
 ],
 "metadata": {
  "kernelspec": {
   "display_name": "base",
   "language": "python",
   "name": "python3"
  },
  "language_info": {
   "codemirror_mode": {
    "name": "ipython",
    "version": 3
   },
   "file_extension": ".py",
   "mimetype": "text/x-python",
   "name": "python",
   "nbconvert_exporter": "python",
   "pygments_lexer": "ipython3",
   "version": "3.12.7"
  }
 },
 "nbformat": 4,
 "nbformat_minor": 5
}
